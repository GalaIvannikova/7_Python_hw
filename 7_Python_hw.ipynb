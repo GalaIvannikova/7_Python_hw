{
 "cells": [
  {
   "cell_type": "markdown",
   "metadata": {},
   "source": [
    "# Задание 1\n",
    "\n",
    "Напишите функцию date_range, которая возвращает список дней между датами start_date и end_date. Даты должны вводиться в формате YYYY-MM-DD."
   ]
  },
  {
   "cell_type": "code",
   "execution_count": 19,
   "metadata": {},
   "outputs": [
    {
     "name": "stdout",
     "output_type": "stream",
     "text": [
      "Введите дату старта в формате YYYY-MM-DD: 2020-01-01\n",
      "Введите дату окончания в формате YYYY-MM-DD: 2020-01-01\n",
      "2020-01-01\n"
     ]
    }
   ],
   "source": [
    "from datetime import datetime\n",
    "from datetime import timedelta\n",
    "\n",
    "def day_count():\n",
    "    start_date = datetime.strptime(input(\"Введите дату старта в формате YYYY-MM-DD: \"), '%Y-%m-%d')\n",
    "    end_date = datetime.strptime(input(\"Введите дату окончания в формате YYYY-MM-DD: \"), '%Y-%m-%d')\n",
    "    current_date = start_date\n",
    "    if start_date <= end_date:\n",
    "        while current_date <= end_date:\n",
    "            print(current_date.strftime('%Y-%m-%d'))\n",
    "            current_date +=timedelta(days = 1)\n",
    "    else:\n",
    "        print('Дата старта позднее даты окончания периода')\n",
    "\n",
    "day_count()"
   ]
  },
  {
   "cell_type": "markdown",
   "metadata": {},
   "source": [
    "# Задание 2\n",
    "Дополните функцию из первого задания проверкой на корректность дат. В случае неверного формата или если start_date > end_date должен возвращаться пустой список."
   ]
  },
  {
   "cell_type": "code",
   "execution_count": 29,
   "metadata": {},
   "outputs": [
    {
     "name": "stdout",
     "output_type": "stream",
     "text": [
      "Введите дату старта в формате YYYY-MM-DD: 2222\n",
      "Дата введена в некорректном формате. Попробуйте еще раз и введите дату в формате YYYY-MM-DD\n"
     ]
    }
   ],
   "source": [
    "from datetime import datetime\n",
    "from datetime import timedelta\n",
    "\n",
    "def day_count():\n",
    "    try:\n",
    "        start_date = datetime.strptime(input(\"Введите дату старта в формате YYYY-MM-DD: \"), '%Y-%m-%d')\n",
    "        end_date = datetime.strptime(input(\"Введите дату окончания в формате YYYY-MM-DD: \"), '%Y-%m-%d')\n",
    "        current_date = start_date\n",
    "        if start_date <= end_date:\n",
    "            while current_date <= end_date:\n",
    "                print(current_date.strftime('%Y-%m-%d'))\n",
    "                current_date +=timedelta(days = 1)\n",
    "        else:\n",
    "            print('Дата старта позднее даты окончания периода')\n",
    "    except ValueError:\n",
    "        print('Дата введена в некорректном формате. Попробуйте еще раз и введите дату в формате YYYY-MM-DD')\n",
    "   \n",
    "    \n",
    "day_count()"
   ]
  },
  {
   "cell_type": "markdown",
   "metadata": {},
   "source": [
    "# Задание 3\n",
    "Дан поток дат в формате YYYY-MM-DD, в которых встречаются некорректные значения:\n",
    "stream = ['2018-04-02', '2018-02-29', '2018-19-02']\n",
    "\n",
    "Напишите функцию, которая проверяет эти даты на корректность. Т. е. для каждой даты возвращает True (дата корректна) или False (некорректная дата). "
   ]
  },
  {
   "cell_type": "code",
   "execution_count": 46,
   "metadata": {},
   "outputs": [
    {
     "name": "stdout",
     "output_type": "stream",
     "text": [
      "2018-04-02 - True\n",
      "2018-04-03 - True\n",
      "2018-02-29 - False\n",
      "2018-19-02 - False\n"
     ]
    }
   ],
   "source": [
    "stream = ['2018-04-02', '2018-04-03', '2018-02-29', '2018-19-02']\n",
    "\n",
    "def date_check(date_list):\n",
    "    for date in date_list:\n",
    "        try:\n",
    "            date_datetime = datetime.strptime(date, '%Y-%m-%d')\n",
    "            print(date, '-', True)\n",
    "        except:\n",
    "            print(date, '-', False)\n",
    "\n",
    "date_check(stream)"
   ]
  },
  {
   "cell_type": "markdown",
   "metadata": {},
   "source": [
    "# Задание 4 (бонусное)\n",
    "Ваш коллега прислал код функции:\n",
    "\n",
    "DEFAULT_USER_COUNT = 3\n",
    "\n",
    "def delete_and_return_last_user(region, default_list=['A100', 'A101', 'A102']):\n",
    "    \"\"\"\n",
    "    Удаляет из списка default_list последнего пользователя \n",
    "    и возвращает ID нового последнего пользователя.\n",
    "    \"\"\"\n",
    "    element_to_delete = default_list[-1]\n",
    "    default_list.remove(element_to_delete)\n",
    "    \n",
    "    return default_list[DEFAULT_USER_COUNT-2]\n",
    "\n",
    "При однократном вызове этой функции все работает корректно:\n",
    "delete_and_return_last_user(1)\n",
    "'A101'\n",
    "\n",
    "Однако, при повторном вызове получается ошибка IndexError: list index out of range.\n",
    "\n",
    "Задание:\n",
    "1. Что значит ошибка list index out of range?\n",
    "2. Почему при первом запуске функция работает корректно, а при втором - нет?\n"
   ]
  },
  {
   "cell_type": "markdown",
   "metadata": {},
   "source": [
    "# Решение\n",
    "\n",
    "1. list index out of range - озночает, что запрашиваемый элемент находится за границами списка. Такого элемента в списке нет.\n",
    "\n",
    "2. Функция возвращает 1 элемент списка. В списке всего 3 элемента. Первый раз удаляем третий и элемнет с индексом 1 у нас есть. При повторном вызове функции удаляется элемент с индексом 1, поэтому к нему нельзя обратиться."
   ]
  },
  {
   "cell_type": "markdown",
   "metadata": {},
   "source": [
    "Не до конца поняла задание. Но я бы переписала функцию так."
   ]
  },
  {
   "cell_type": "code",
   "execution_count": 71,
   "metadata": {},
   "outputs": [
    {
     "name": "stdout",
     "output_type": "stream",
     "text": [
      "Запускаем функцию первый раз\n",
      "Последний элемент списка - A101\n",
      "Список выглядит так:\n",
      "0 A100\n",
      "1 A101\n",
      "Запускаем функцию второй раз\n",
      "Последний элемент списка - A100\n",
      "Список выглядит так:\n",
      "['A100']\n"
     ]
    }
   ],
   "source": [
    "DEFAULT_USER_COUNT = 3\n",
    "default_list=['A100', 'A101', 'A102']\n",
    "\n",
    "def delete_and_return_last_user(region, id_list):\n",
    "    \"\"\"\n",
    "    Удаляет из списка default_list последнего пользователя \n",
    "    и возвращает ID нового последнего пользователя.\n",
    "    \"\"\"\n",
    "    element_to_delete = id_list[-1]\n",
    "    id_list.remove(element_to_delete)\n",
    "    \n",
    "    return id_list[-1]\n",
    "\n",
    "print('Запускаем функцию первый раз')\n",
    "print('Последний элемент списка -', delete_and_return_last_user(1, default_list))\n",
    "print('Список выглядит так:')\n",
    "for index, i in enumerate(default_list):\n",
    "    print(index, i)\n",
    "\n",
    "print('Запускаем функцию второй раз')    \n",
    "print('Последний элемент списка -', delete_and_return_last_user(1, default_list))\n",
    "print('Список выглядит так:')\n",
    "print(default_list)"
   ]
  }
 ],
 "metadata": {
  "kernelspec": {
   "display_name": "Python 3",
   "language": "python",
   "name": "python3"
  },
  "language_info": {
   "codemirror_mode": {
    "name": "ipython",
    "version": 3
   },
   "file_extension": ".py",
   "mimetype": "text/x-python",
   "name": "python",
   "nbconvert_exporter": "python",
   "pygments_lexer": "ipython3",
   "version": "3.7.4"
  }
 },
 "nbformat": 4,
 "nbformat_minor": 2
}
