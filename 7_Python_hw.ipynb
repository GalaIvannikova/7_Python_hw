{
 "cells": [
  {
   "cell_type": "markdown",
   "metadata": {},
   "source": [
    "# Задание 1\n",
    "\n",
    "Напишите функцию date_range, которая возвращает список дней между датами start_date и end_date. Даты должны вводиться в формате YYYY-MM-DD."
   ]
  },
  {
   "cell_type": "markdown",
   "metadata": {},
   "source": [
    "# Задание 2\n",
    "Дополните функцию из первого задания проверкой на корректность дат. В случае неверного формата или если start_date > end_date должен возвращаться пустой список."
   ]
  },
  {
   "cell_type": "code",
   "execution_count": 1,
   "metadata": {},
   "outputs": [],
   "source": [
    "from datetime import datetime\n",
    "from datetime import timedelta"
   ]
  },
  {
   "cell_type": "code",
   "execution_count": 4,
   "metadata": {},
   "outputs": [
    {
     "name": "stdout",
     "output_type": "stream",
     "text": [
      "Введите дату старта в формате YYYY-MM-DD: 2020-01-10\n",
      "Введите дату окончания в формате YYYY-MM-DD: 2020-01-14\n",
      "2020-01-10\n",
      "2020-01-11\n",
      "2020-01-12\n",
      "2020-01-13\n",
      "2020-01-14\n"
     ]
    }
   ],
   "source": [
    "def day_count():\n",
    "    try:\n",
    "        start_date = datetime.strptime(input(\"Введите дату старта в формате YYYY-MM-DD: \"), '%Y-%m-%d')\n",
    "        end_date = datetime.strptime(input(\"Введите дату окончания в формате YYYY-MM-DD: \"), '%Y-%m-%d')\n",
    "        current_date = start_date\n",
    "        if start_date <= end_date:\n",
    "            while current_date <= end_date:\n",
    "                print(current_date.strftime('%Y-%m-%d'))\n",
    "                current_date +=timedelta(days = 1)\n",
    "        else:\n",
    "            print('Дата старта позднее даты окончания периода')\n",
    "    except ValueError:\n",
    "        print('Дата введена в некорректном формате. Попробуйте еще раз и введите дату в формате YYYY-MM-DD')\n",
    "   \n",
    "    \n",
    "day_count()"
   ]
  },
  {
   "cell_type": "markdown",
   "metadata": {},
   "source": [
    "# Задание 3\n",
    "Дан поток дат в формате YYYY-MM-DD, в которых встречаются некорректные значения:\n",
    "stream = ['2018-04-02', '2018-02-29', '2018-19-02']\n",
    "\n",
    "Напишите функцию, которая проверяет эти даты на корректность. Т. е. для каждой даты возвращает True (дата корректна) или False (некорректная дата). "
   ]
  },
  {
   "cell_type": "code",
   "execution_count": 46,
   "metadata": {},
   "outputs": [
    {
     "name": "stdout",
     "output_type": "stream",
     "text": [
      "2018-04-02 - True\n",
      "2018-04-03 - True\n",
      "2018-02-29 - False\n",
      "2018-19-02 - False\n"
     ]
    }
   ],
   "source": [
    "stream = ['2018-04-02', '2018-04-03', '2018-02-29', '2018-19-02']\n",
    "\n",
    "def date_check(date_list):\n",
    "    for date in date_list:\n",
    "        try:\n",
    "            date_datetime = datetime.strptime(date, '%Y-%m-%d')\n",
    "            print(date, '-', True)\n",
    "        except:\n",
    "            print(date, '-', False)\n",
    "\n",
    "date_check(stream)"
   ]
  },
  {
   "cell_type": "markdown",
   "metadata": {},
   "source": [
    "# Задание 4 (бонусное)\n",
    "Ваш коллега прислал код функции:\n",
    "\n",
    "DEFAULT_USER_COUNT = 3\n",
    "\n",
    "def delete_and_return_last_user(region, default_list=['A100', 'A101', 'A102']):\n",
    "    \"\"\"\n",
    "    Удаляет из списка default_list последнего пользователя \n",
    "    и возвращает ID нового последнего пользователя.\n",
    "    \"\"\"\n",
    "    element_to_delete = default_list[-1]\n",
    "    default_list.remove(element_to_delete)\n",
    "    \n",
    "    return default_list[DEFAULT_USER_COUNT-2]\n",
    "\n",
    "При однократном вызове этой функции все работает корректно:\n",
    "delete_and_return_last_user(1)\n",
    "'A101'\n",
    "\n",
    "Однако, при повторном вызове получается ошибка IndexError: list index out of range.\n",
    "\n",
    "Задание:\n",
    "1. Что значит ошибка list index out of range?\n",
    "2. Почему при первом запуске функция работает корректно, а при втором - нет?\n"
   ]
  },
  {
   "cell_type": "markdown",
   "metadata": {},
   "source": [
    "# Решение\n",
    "\n",
    "1. list index out of range - озночает, что запрашиваемый элемент находится за границами списка. Такого элемента в списке нет.\n",
    "\n",
    "2. Функция возвращает элемент списка с индексом 1. Не имеет значения, сколько будет элементом в списке, в return возвращается только значение элемента списка с индексом 1. Если задача стоит в том, чтобы вывести на экран ID последнего элемента списка, то надо изменить код. Решение ниже."
   ]
  },
  {
   "cell_type": "code",
   "execution_count": 7,
   "metadata": {},
   "outputs": [
    {
     "name": "stdout",
     "output_type": "stream",
     "text": [
      "Запускаем функцию первый раз\n",
      "Последний элемент списка - A101\n",
      "Список выглядит так:\n",
      "0 A100\n",
      "1 A101\n",
      "Запускаем функцию второй раз\n",
      "Последний элемент списка - A100\n",
      "Список выглядит так:\n",
      "0 A100\n"
     ]
    }
   ],
   "source": [
    "# Вариант 1\n",
    "DEFAULT_USER_COUNT = 3\n",
    "\n",
    "default_list=['A100', 'A101', 'A102']\n",
    "\n",
    "def delete_and_return_last_user(region, id_list):\n",
    "    \"\"\"\n",
    "    Удаляет из списка default_list последнего пользователя \n",
    "    и возвращает ID нового последнего пользователя.\n",
    "    \"\"\"\n",
    "    element_to_delete = id_list[-1]\n",
    "    id_list.remove(element_to_delete)\n",
    "    \n",
    "    return id_list[-1]\n",
    "\n",
    "print('Запускаем функцию первый раз')\n",
    "print('Последний элемент списка -', delete_and_return_last_user(1, default_list))\n",
    "print('Список выглядит так:')\n",
    "for index, i in enumerate(default_list):\n",
    "    print(index, i)\n",
    "\n",
    "print('Запускаем функцию второй раз')    \n",
    "print('Последний элемент списка -', delete_and_return_last_user(1, default_list))\n",
    "print('Список выглядит так:')\n",
    "for index, i in enumerate(default_list):\n",
    "    print(index, i)"
   ]
  },
  {
   "cell_type": "code",
   "execution_count": 34,
   "metadata": {},
   "outputs": [
    {
     "name": "stdout",
     "output_type": "stream",
     "text": [
      "Запускаем функцию 1-й раз\n",
      "Последний элемент списка - A101\n",
      "Запускаем функцию 2-й раз\n",
      "Последний элемент списка - A100\n",
      "Запускаем функцию 3-й раз\n",
      "В списке не осталось элементов\n",
      "Последний элемент списка - None\n"
     ]
    }
   ],
   "source": [
    "# Вариант 2\n",
    "\n",
    "def delete_and_return_last_user(region, default_list=['A100', 'A101', 'A102']):\n",
    "    \"\"\" Удаляет из списка default_list последнего пользователя \n",
    "    и возвращает ID нового последнего пользователя. \"\"\" \n",
    "    try:\n",
    "        DEFAULT_USER_COUNT = len(default_list)\n",
    "        element_to_delete = default_list[-1]\n",
    "        default_list.remove(element_to_delete)\n",
    "        return default_list[DEFAULT_USER_COUNT-2]\n",
    "    except:\n",
    "        print('В списке не осталось элементов')\n",
    "        \n",
    "\n",
    "\n",
    "print('Запускаем функцию 1-й раз')\n",
    "print('Последний элемент списка -', delete_and_return_last_user(1))\n",
    "\n",
    "print('Запускаем функцию 2-й раз')    \n",
    "print('Последний элемент списка -', delete_and_return_last_user(1))\n",
    "\n",
    "print('Запускаем функцию 3-й раз')    \n",
    "print('Последний элемент списка -', delete_and_return_last_user(1))\n"
   ]
  }
 ],
 "metadata": {
  "kernelspec": {
   "display_name": "Python 3",
   "language": "python",
   "name": "python3"
  },
  "language_info": {
   "codemirror_mode": {
    "name": "ipython",
    "version": 3
   },
   "file_extension": ".py",
   "mimetype": "text/x-python",
   "name": "python",
   "nbconvert_exporter": "python",
   "pygments_lexer": "ipython3",
   "version": "3.7.4"
  }
 },
 "nbformat": 4,
 "nbformat_minor": 2
}
